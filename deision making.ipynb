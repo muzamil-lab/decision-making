{
 "cells": [
  {
   "cell_type": "code",
   "execution_count": 1,
   "id": "e1f8200e",
   "metadata": {},
   "outputs": [
    {
     "name": "stdout",
     "output_type": "stream",
     "text": [
      "Enter the Number Lesser than 37 --33\n"
     ]
    }
   ],
   "source": [
    " a = int(input(\"Enter the Number Lesser than 37 --\"))"
   ]
  },
  {
   "cell_type": "code",
   "execution_count": 2,
   "id": "50016a0e",
   "metadata": {},
   "outputs": [],
   "source": [
    "if a < 37:\n",
    "    pass"
   ]
  },
  {
   "cell_type": "code",
   "execution_count": 3,
   "id": "c8b45e30",
   "metadata": {},
   "outputs": [
    {
     "data": {
      "text/plain": [
       "33"
      ]
     },
     "execution_count": 3,
     "metadata": {},
     "output_type": "execute_result"
    }
   ],
   "source": [
    "a"
   ]
  },
  {
   "cell_type": "code",
   "execution_count": 17,
   "id": "38e7607b",
   "metadata": {},
   "outputs": [
    {
     "name": "stdout",
     "output_type": "stream",
     "text": [
      "Enter The Number  Lesser Then 37 --88\n",
      "The Data Is Bigger Then 37\n"
     ]
    }
   ],
   "source": [
    "a = int(input(\"Enter The Number  Lesser Then 37 --\"))\n",
    "if a<=37:\n",
    "    print(\"I'm Fine\")\n",
    "elif a < 90:\n",
    "    print(\"The Data Is Bigger Then 37\")\n",
    "else:\n",
    "    print(\"I'm Not Fine\")"
   ]
  },
  {
   "cell_type": "markdown",
   "id": "7f298cad",
   "metadata": {},
   "source": [
    "# salary and buying program\n",
    "now if your salary is more than 1000rs the buying a car\n",
    "if your salary is more then 500rs then i will go for a bike\n",
    "if your salary is more then 100rs then i will trying to manage my house\n",
    "if non of the condition in that case i will not do nothing"
   ]
  },
  {
   "cell_type": "code",
   "execution_count": 23,
   "id": "174f960d",
   "metadata": {},
   "outputs": [
    {
     "name": "stdout",
     "output_type": "stream",
     "text": [
      "Enter The Salary1100\n",
      "I Will Go for Buy A Car\n"
     ]
    }
   ],
   "source": [
    "salary = int(input(\"Enter The Salary\"))\n",
    "if salary > 1000:\n",
    "    print(\"I Will Go for Buy A Car\")\n",
    "elif salary > 500:\n",
    "    print(\"I Will Go For Buy A Bike\")\n",
    "elif salary > 100:\n",
    "    printf(\"I Will Trying To Manage My House\")\n",
    "else:\n",
    "    print(\"I Will Do Nothing\")"
   ]
  },
  {
   "cell_type": "markdown",
   "id": "0f867fec",
   "metadata": {},
   "source": [
    "\n",
    "# nested loop"
   ]
  },
  {
   "cell_type": "code",
   "execution_count": 30,
   "id": "5cb058f8",
   "metadata": {},
   "outputs": [
    {
     "name": "stdout",
     "output_type": "stream",
     "text": [
      "Enter The Salary4\n",
      "I Will Do Nothing\n"
     ]
    }
   ],
   "source": [
    "salary = int(input(\"Enter The Salary\"))\n",
    "if salary > 1000:\n",
    "    print(\"your Salary Is Good\")\n",
    "    if salary <5000:\n",
    "        print(\"I Will Go For Buy nano Car\")\n",
    "        if True:\n",
    "            print(\"False Code\")\n",
    "    elif salary < 10000:\n",
    "        print(\"I will Go For Buy Maruti\")\n",
    "    elif salary < 50000:\n",
    "        print(\"I Will Go For Buy Toyota\") \n",
    "    else:\n",
    "        print(\"I Will Rent A  Car\")\n",
    "elif salary > 500:\n",
    "    print(\"I Will Go For Buy A Bike\")\n",
    "elif salary > 100:\n",
    "    printf(\"I Will Trying To Manage My House\")\n",
    "else:\n",
    "    print(\"I Will Do Nothing\")"
   ]
  },
  {
   "cell_type": "code",
   "execution_count": null,
   "id": "d0cc1bc6",
   "metadata": {},
   "outputs": [],
   "source": []
  }
 ],
 "metadata": {
  "kernelspec": {
   "display_name": "Python 3",
   "language": "python",
   "name": "python3"
  },
  "language_info": {
   "codemirror_mode": {
    "name": "ipython",
    "version": 3
   },
   "file_extension": ".py",
   "mimetype": "text/x-python",
   "name": "python",
   "nbconvert_exporter": "python",
   "pygments_lexer": "ipython3",
   "version": "3.8.8"
  }
 },
 "nbformat": 4,
 "nbformat_minor": 5
}
